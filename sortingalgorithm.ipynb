{
 "cells": [
  {
   "cell_type": "code",
   "execution_count": 1,
   "id": "cf28668c",
   "metadata": {},
   "outputs": [],
   "source": [
    "class solution: \n",
    "    def sortArray(self,nums):\n",
    "        nums.sort()\n",
    "        return nums \n",
    "        \n"
   ]
  },
  {
   "cell_type": "code",
   "execution_count": 10,
   "id": "7b9901a1",
   "metadata": {},
   "outputs": [],
   "source": [
    "# Bubble Sort Algorithm \n",
    "# Big Number comes out first, then second big and so on.\n",
    "arr=[3,2,8,1,7,6,4]\n",
    "\n",
    "def bubble_sort(arr): \n",
    "    n= len(arr)\n",
    "    for i in range(n-1): \n",
    "        for j in range(n-i-1):\n",
    "            if(arr[j]> arr[j+1]): \n",
    "                temp = arr[j]\n",
    "                arr[j]= arr[j+1]\n",
    "                arr[j+1] = temp\n"
   ]
  },
  {
   "cell_type": "code",
   "execution_count": 6,
   "id": "fc3aa97f",
   "metadata": {},
   "outputs": [
    {
     "name": "stdout",
     "output_type": "stream",
     "text": [
      "0\n",
      "1\n",
      "2\n",
      "3\n",
      "4\n"
     ]
    }
   ],
   "source": [
    "for i in range(5): \n",
    "    print(i)"
   ]
  },
  {
   "cell_type": "code",
   "execution_count": null,
   "id": "647c4007",
   "metadata": {},
   "outputs": [],
   "source": []
  },
  {
   "cell_type": "code",
   "execution_count": null,
   "id": "23a02fc5",
   "metadata": {},
   "outputs": [],
   "source": []
  },
  {
   "cell_type": "code",
   "execution_count": null,
   "id": "84021de9",
   "metadata": {},
   "outputs": [],
   "source": []
  },
  {
   "cell_type": "code",
   "execution_count": null,
   "id": "10017e79",
   "metadata": {},
   "outputs": [],
   "source": []
  }
 ],
 "metadata": {
  "kernelspec": {
   "display_name": "Python 3",
   "language": "python",
   "name": "python3"
  },
  "language_info": {
   "codemirror_mode": {
    "name": "ipython",
    "version": 3
   },
   "file_extension": ".py",
   "mimetype": "text/x-python",
   "name": "python",
   "nbconvert_exporter": "python",
   "pygments_lexer": "ipython3",
   "version": "3.10.0"
  }
 },
 "nbformat": 4,
 "nbformat_minor": 5
}
